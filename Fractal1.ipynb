{
 "cells": [
  {
   "cell_type": "code",
   "execution_count": 1,
   "metadata": {},
   "outputs": [
    {
     "name": "stdout",
     "output_type": "stream",
     "text": [
      "(-1-1j) 3\n",
      "(-1-0.5j) 5\n",
      "(-1+0j) 80\n",
      "(-1+0.5j) 5\n",
      "(-0.5-1j) 4\n",
      "(-0.5-0.5j) 80\n",
      "(-0.5+0j) 80\n",
      "(-0.5+0.5j) 80\n",
      "-1j 80\n",
      "-0.5j 80\n",
      "0j 80\n",
      "0.5j 80\n",
      "(0.5-1j) 2\n",
      "(0.5-0.5j) 5\n",
      "(0.5+0j) 5\n",
      "(0.5+0.5j) 5\n"
     ]
    }
   ],
   "source": [
    "MAX_ITER = 80\n",
    "\n",
    "def mandelbrot(c):\n",
    "    z = 0\n",
    "    n = 0\n",
    "    while abs(z) <= 2 and n < MAX_ITER:\n",
    "        z = z*z + c\n",
    "        n += 1\n",
    "    return n\n",
    "\n",
    "if __name__ == \"__main__\":\n",
    "    for a in range(-10, 10, 5):\n",
    "        for b in range(-10, 10, 5):\n",
    "            c = complex(a / 10, b / 10)\n",
    "            print(c, mandelbrot(c))\n",
    "\n",
    "    "
   ]
  },
  {
   "cell_type": "code",
   "execution_count": 2,
   "metadata": {},
   "outputs": [],
   "source": [
    "from PIL import Image, ImageDraw\n",
    "#from mandelbrot import mandelbrot, MAX_ITER\n",
    "\n",
    "# Image size (pixels)\n",
    "WIDTH = 600\n",
    "HEIGHT = 400\n",
    "\n",
    "# Plot window\n",
    "RE_START = -2\n",
    "RE_END = 1\n",
    "IM_START = -1\n",
    "IM_END = 1\n",
    "\n",
    "palette = []\n",
    "\n",
    "im = Image.new('RGB', (WIDTH, HEIGHT), (0, 0, 0))\n",
    "draw = ImageDraw.Draw(im)\n",
    "\n",
    "for x in range(0, WIDTH):\n",
    "    for y in range(0, HEIGHT):\n",
    "        # Convert pixel coordinate to complex number\n",
    "        c = complex(RE_START + (x / WIDTH) * (RE_END - RE_START),\n",
    "                    IM_START + (y / HEIGHT) * (IM_END - IM_START))\n",
    "        # Compute the number of iterations\n",
    "        m = mandelbrot(c)\n",
    "        # The color depends on the number of iterations\n",
    "        color = 255 - int(m * 255 / MAX_ITER)\n",
    "        # Plot the point\n",
    "        draw.point([x, y], (color, color, color))\n",
    "\n",
    "im.save('output.png', 'PNG')\n"
   ]
  },
  {
   "cell_type": "code",
   "execution_count": 3,
   "metadata": {},
   "outputs": [],
   "source": [
    "#from PIL import Image, ImageDraw\n",
    "#from mandelbrot import mandelbrot, MAX_ITER\n",
    "\n",
    "# Image size (pixels)\n",
    "WIDTH = 600\n",
    "HEIGHT = 400\n",
    "\n",
    "# Plot window\n",
    "RE_START = -2\n",
    "RE_END = 1\n",
    "IM_START = -1\n",
    "IM_END = 1\n",
    "\n",
    "im = Image.new('HSV', (WIDTH, HEIGHT), (0, 0, 0))\n",
    "draw = ImageDraw.Draw(im)\n",
    "\n",
    "for x in range(0, WIDTH):\n",
    "    for y in range(0, HEIGHT):\n",
    "        # Convert pixel coordinate to complex number\n",
    "        c = complex(RE_START + (x / WIDTH) * (RE_END - RE_START),\n",
    "                    IM_START + (y / HEIGHT) * (IM_END - IM_START))\n",
    "        # Compute the number of iterations\n",
    "        m = mandelbrot(c)\n",
    "        # The color depends on the number of iterations\n",
    "        hue = int(255 * m / MAX_ITER)\n",
    "        saturation = 255\n",
    "        value = 255 if m < MAX_ITER else 0\n",
    "        # Plot the point\n",
    "        draw.point([x, y], (hue, saturation, value))\n",
    "\n",
    "im.convert('RGB').save('output.png', 'PNG')\n"
   ]
  },
  {
   "cell_type": "code",
   "execution_count": 4,
   "metadata": {},
   "outputs": [
    {
     "data": {
      "text/plain": [
       "<matplotlib.image.AxesImage at 0x3cb9548>"
      ]
     },
     "execution_count": 4,
     "metadata": {},
     "output_type": "execute_result"
    },
    {
     "data": {
      "image/png": "[encoded data removed]",
      "text/plain": [
       "<Figure size 432x288 with 1 Axes>"
      ]
     },
     "metadata": {
      "needs_background": "light"
     },
     "output_type": "display_data"
    }
   ],
   "source": [
    "import matplotlib.pyplot as plt\n",
    "plt.imshow(im)"
   ]
  },
  {
   "cell_type": "code",
   "execution_count": 5,
   "metadata": {},
   "outputs": [],
   "source": [
    "from math import log, log2\n",
    "\n",
    "MAX_ITER = 80\n",
    "\n",
    "def julia(c, z0):\n",
    "    z = z0\n",
    "    n = 0\n",
    "    while abs(z) <= 2 and n < MAX_ITER:\n",
    "        z = z*z + c\n",
    "        n += 1\n",
    "\n",
    "    if n == MAX_ITER:\n",
    "        return MAX_ITER\n",
    "    \n",
    "    return n + 1 - log(log2(abs(z)))\n"
   ]
  },
  {
   "cell_type": "code",
   "execution_count": 8,
   "metadata": {},
   "outputs": [],
   "source": [
    "from PIL import Image, ImageDraw\n",
    "#from julia import julia, MAX_ITER\n",
    "from collections import defaultdict\n",
    "from math import floor, ceil\n",
    "\n",
    "def linear_interpolation(color1, color2, t):\n",
    "    return color1 * (1 - t) + color2 * t \n",
    "\n",
    "# Image size (pixels)\n",
    "WIDTH = 400\n",
    "HEIGHT = 480\n",
    "\n",
    "# Plot window\n",
    "RE_START = -1\n",
    "RE_END = 1\n",
    "IM_START = -1.2\n",
    "IM_END = 1.2\n",
    "\n",
    "# c constant used to compute the julia set\n",
    "#c = complex(0.285, 0.01)\n",
    "# Other interesting values:\n",
    "c = complex(-0.8269, 0.1889)\n",
    "# c = complex(-0.8, 0.156)\n",
    "# c = complex(-0.4, 0.6)\n",
    "\n",
    "histogram = defaultdict(lambda: 0)\n",
    "values = {}\n",
    "for x in range(0, WIDTH):\n",
    "    for y in range(0, HEIGHT):\n",
    "        # Convert pixel coordinate to complex number\n",
    "        z0 = complex(RE_START + (x / WIDTH) * (RE_END - RE_START),\n",
    "                    IM_START + (y / HEIGHT) * (IM_END - IM_START))\n",
    "        # Compute the number of iterations\n",
    "        m = julia(c, z0)\n",
    "        \n",
    "        values[(x, y)] = m\n",
    "        if m < MAX_ITER:\n",
    "            histogram[floor(m)] += 1\n",
    "\n",
    "total = sum(histogram.values())\n",
    "hues = []\n",
    "h = 0\n",
    "for i in range(MAX_ITER):\n",
    "    h += histogram[i] / total\n",
    "    hues.append(h)\n",
    "hues.append(h)\n",
    " \n",
    "im = Image.new('HSV', (WIDTH, HEIGHT), (0, 0, 0))\n",
    "draw = ImageDraw.Draw(im)\n",
    "\n",
    "for x in range(0, WIDTH):\n",
    "    for y in range(0, HEIGHT):\n",
    "        m = values[(x, y)]\n",
    "        # The color depends on the number of iterations    \n",
    "        hue = 255 - int(255 * linear_interpolation(hues[floor(m)], hues[ceil(m)], m % 1))\n",
    "        saturation = 255\n",
    "        value = 255 if m < MAX_ITER else 0\n",
    "        # Plot the point\n",
    "        draw.point([x, y], (hue, saturation, value))\n",
    "\n",
    "im.convert('RGB').save('output.png', 'PNG')\n",
    "\n"
   ]
  },
  {
   "cell_type": "code",
   "execution_count": 9,
   "metadata": {},
   "outputs": [
    {
     "data": {
      "text/plain": [
       "<matplotlib.image.AxesImage at 0x8e3c688>"
      ]
     },
     "execution_count": 9,
     "metadata": {},
     "output_type": "execute_result"
    },
    {
     "data": {
      "image/png": "[encoded data removed]",
      "text/plain": [
       "<Figure size 432x288 with 1 Axes>"
      ]
     },
     "metadata": {
      "needs_background": "light"
     },
     "output_type": "display_data"
    }
   ],
   "source": [
    "plt.imshow(im)"
   ]
  },
  {
   "cell_type": "code",
   "execution_count": 5,
   "metadata": {},
   "outputs": [
    {
     "ename": "NameError",
     "evalue": "name 'julia' is not defined",
     "output_type": "error",
     "traceback": [
      "\u001b[1;31m---------------------------------------------------------------------------\u001b[0m",
      "\u001b[1;31mNameError\u001b[0m                                 Traceback (most recent call last)",
      "\u001b[1;32m<ipython-input-5-aa3247e94a40>\u001b[0m in \u001b[0;36m<module>\u001b[1;34m\u001b[0m\n\u001b[0;32m     38\u001b[0m                         IM_START + (y / HEIGHT) * (IM_END - IM_START))\n\u001b[0;32m     39\u001b[0m             \u001b[1;31m# Compute the number of iterations\u001b[0m\u001b[1;33m\u001b[0m\u001b[1;33m\u001b[0m\u001b[1;33m\u001b[0m\u001b[0m\n\u001b[1;32m---> 40\u001b[1;33m             \u001b[0mm\u001b[0m \u001b[1;33m=\u001b[0m \u001b[0mjulia\u001b[0m\u001b[1;33m(\u001b[0m\u001b[0mc\u001b[0m\u001b[1;33m,\u001b[0m \u001b[0mz0\u001b[0m\u001b[1;33m)\u001b[0m\u001b[1;33m\u001b[0m\u001b[1;33m\u001b[0m\u001b[0m\n\u001b[0m\u001b[0;32m     41\u001b[0m \u001b[1;33m\u001b[0m\u001b[0m\n\u001b[0;32m     42\u001b[0m             \u001b[0mvalues\u001b[0m\u001b[1;33m[\u001b[0m\u001b[1;33m(\u001b[0m\u001b[0mx\u001b[0m\u001b[1;33m,\u001b[0m \u001b[0my\u001b[0m\u001b[1;33m)\u001b[0m\u001b[1;33m]\u001b[0m \u001b[1;33m=\u001b[0m \u001b[0mm\u001b[0m\u001b[1;33m\u001b[0m\u001b[1;33m\u001b[0m\u001b[0m\n",
      "\u001b[1;31mNameError\u001b[0m: name 'julia' is not defined"
     ]
    }
   ],
   "source": [
    "from PIL import Image, ImageDraw\n",
    "#from julia import julia, MAX_ITER\n",
    "from collections import defaultdict\n",
    "from math import floor, ceil\n",
    "import numpy as np\n",
    "\n",
    "def linear_interpolation(color1, color2, t):\n",
    "    return color1 * (1 - t) + color2 * t \n",
    "\n",
    "# Image size (pixels)\n",
    "WIDTH = 400\n",
    "HEIGHT = 480\n",
    "\n",
    "# Plot window\n",
    "RE_START = -1\n",
    "RE_END = 1\n",
    "IM_START = -1.2\n",
    "IM_END = 1.2\n",
    "\n",
    "c = complex(0.285, 0.01)\n",
    "\n",
    "T = 20\n",
    "for t in range(T):\n",
    "    # c constant used to compute the julia set\n",
    "    \n",
    "    c = c*np.exp(complex(0,np.pi/60))\n",
    "    # Other interesting values:\n",
    "    # c = complex(-0.7269, 0.1889)\n",
    "    # c = complex(-0.8, 0.156)\n",
    "    # c = complex(-0.4, 0.6)\n",
    "\n",
    "    histogram = defaultdict(lambda: 0)\n",
    "    values = {}\n",
    "    for x in range(0, WIDTH):\n",
    "        for y in range(0, HEIGHT):\n",
    "            # Convert pixel coordinate to complex number\n",
    "            z0 = complex(RE_START + (x / WIDTH) * (RE_END - RE_START),\n",
    "                        IM_START + (y / HEIGHT) * (IM_END - IM_START))\n",
    "            # Compute the number of iterations\n",
    "            m = julia(c, z0)\n",
    "\n",
    "            values[(x, y)] = m\n",
    "            if m < MAX_ITER:\n",
    "                histogram[floor(m)] += 1\n",
    "\n",
    "    total = sum(histogram.values())\n",
    "    hues = []\n",
    "    h = 0\n",
    "    for i in range(MAX_ITER):\n",
    "        h += histogram[i] / total\n",
    "        hues.append(h)\n",
    "    hues.append(h)\n",
    "\n",
    "    im = Image.new('HSV', (WIDTH, HEIGHT), (0, 0, 0))\n",
    "    draw = ImageDraw.Draw(im)\n",
    "\n",
    "    for x in range(0, WIDTH):\n",
    "        for y in range(0, HEIGHT):\n",
    "            m = values[(x, y)]\n",
    "            # The color depends on the number of iterations    \n",
    "            hue = 255 - int(255 * linear_interpolation(hues[floor(m)], hues[ceil(m)], m % 1))\n",
    "            saturation = 255\n",
    "            value = 255 if m < MAX_ITER else 0\n",
    "            # Plot the point\n",
    "            draw.point([x, y], (hue, saturation, value))\n",
    "\n",
    "    im.convert('RGB').save('C:\\\\Users\\\\Ronald\\\\Downloads\\\\fraktol\\\\output%05d.png' % t, 'PNG')\n",
    "\n",
    "    plt.imshow(im)\n",
    "!convert -delay 5 -loop 0 C:\\Users\\Ronald\\Downloads\\fraktol\\output*.png C:\\Users\\\\Ronald\\Downloads\\fraktol\\fractal.gif"
   ]
  },
  {
   "cell_type": "code",
   "execution_count": null,
   "metadata": {},
   "outputs": [],
   "source": [
    "for t in range(T):\n",
    "    "
   ]
  },
  {
   "cell_type": "code",
   "execution_count": 14,
   "metadata": {},
   "outputs": [
    {
     "name": "stderr",
     "output_type": "stream",
     "text": [
      "Ongeldige parameter - 5\n"
     ]
    }
   ],
   "source": [
    "!convert -delay 5 -loop 0 C:\\Users\\Ronald\\Downloads\\fraktol\\output*.png C:\\Users\\\\Ronald\\Downloads\\fraktol\\fractal.gif"
   ]
  },
  {
   "cell_type": "code",
   "execution_count": 5,
   "metadata": {},
   "outputs": [
    {
     "data": {
      "text/plain": [
       "0"
      ]
     },
     "execution_count": 5,
     "metadata": {},
     "output_type": "execute_result"
    }
   ],
   "source": [
    "import os\n",
    "os.system(\"convert -delay 3 -loop 0 C:\\\\Users\\\\Ronald\\\\Downloads\\\\fraktol\\\\output*.png C:\\\\Users\\\\Ronald\\\\Downloads\\\\fraktol\\\\fractal6.gif\")"
   ]
  },
  {
   "cell_type": "code",
   "execution_count": null,
   "metadata": {},
   "outputs": [],
   "source": []
  }
 ],
 "metadata": {
  "kernelspec": {
   "display_name": "Python 3",
   "language": "python",
   "name": "python3"
  },
  "language_info": {
   "codemirror_mode": {
    "name": "ipython",
    "version": 3
   },
   "file_extension": ".py",
   "mimetype": "text/x-python",
   "name": "python",
   "nbconvert_exporter": "python",
   "pygments_lexer": "ipython3",
   "version": "3.7.6"
  }
 },
 "nbformat": 4,
 "nbformat_minor": 4
}
